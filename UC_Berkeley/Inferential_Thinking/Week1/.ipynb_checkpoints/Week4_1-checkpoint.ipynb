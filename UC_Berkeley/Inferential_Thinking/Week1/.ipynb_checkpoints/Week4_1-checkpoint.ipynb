{
 "cells": [
  {
   "cell_type": "code",
   "execution_count": 1,
   "metadata": {},
   "outputs": [],
   "source": [
    "from datascience import *\n",
    "import numpy as np\n",
    "%matplotlib inline\n",
    "import matplotlib.pyplot as plt\n",
    "plt.style.use('fivethirtyeight')"
   ]
  },
  {
   "cell_type": "code",
   "execution_count": 2,
   "metadata": {},
   "outputs": [
    {
     "data": {
      "text/html": [
       "<table border=\"1\" class=\"dataframe\">\n",
       "    <thead>\n",
       "        <tr>\n",
       "            <th>Birth Weight</th> <th>Gestational Days</th> <th>Maternal Age</th> <th>Maternal Height</th> <th>Maternal Pregnancy Weight</th> <th>Maternal Smoker</th>\n",
       "        </tr>\n",
       "    </thead>\n",
       "    <tbody>\n",
       "        <tr>\n",
       "            <td>120         </td> <td>284             </td> <td>27          </td> <td>62             </td> <td>100                      </td> <td>False          </td>\n",
       "        </tr>\n",
       "        <tr>\n",
       "            <td>113         </td> <td>282             </td> <td>33          </td> <td>64             </td> <td>135                      </td> <td>False          </td>\n",
       "        </tr>\n",
       "        <tr>\n",
       "            <td>128         </td> <td>279             </td> <td>28          </td> <td>64             </td> <td>115                      </td> <td>True           </td>\n",
       "        </tr>\n",
       "        <tr>\n",
       "            <td>108         </td> <td>282             </td> <td>23          </td> <td>67             </td> <td>125                      </td> <td>True           </td>\n",
       "        </tr>\n",
       "        <tr>\n",
       "            <td>136         </td> <td>286             </td> <td>25          </td> <td>62             </td> <td>93                       </td> <td>False          </td>\n",
       "        </tr>\n",
       "        <tr>\n",
       "            <td>138         </td> <td>244             </td> <td>33          </td> <td>62             </td> <td>178                      </td> <td>False          </td>\n",
       "        </tr>\n",
       "        <tr>\n",
       "            <td>132         </td> <td>245             </td> <td>23          </td> <td>65             </td> <td>140                      </td> <td>False          </td>\n",
       "        </tr>\n",
       "        <tr>\n",
       "            <td>120         </td> <td>289             </td> <td>25          </td> <td>62             </td> <td>125                      </td> <td>False          </td>\n",
       "        </tr>\n",
       "        <tr>\n",
       "            <td>143         </td> <td>299             </td> <td>30          </td> <td>66             </td> <td>136                      </td> <td>True           </td>\n",
       "        </tr>\n",
       "        <tr>\n",
       "            <td>140         </td> <td>351             </td> <td>27          </td> <td>68             </td> <td>120                      </td> <td>False          </td>\n",
       "        </tr>\n",
       "    </tbody>\n",
       "</table>\n",
       "<p>... (1164 rows omitted)</p>"
      ],
      "text/plain": [
       "Birth Weight | Gestational Days | Maternal Age | Maternal Height | Maternal Pregnancy Weight | Maternal Smoker\n",
       "120          | 284              | 27           | 62              | 100                       | False\n",
       "113          | 282              | 33           | 64              | 135                       | False\n",
       "128          | 279              | 28           | 64              | 115                       | True\n",
       "108          | 282              | 23           | 67              | 125                       | True\n",
       "136          | 286              | 25           | 62              | 93                        | False\n",
       "138          | 244              | 33           | 62              | 178                       | False\n",
       "132          | 245              | 23           | 65              | 140                       | False\n",
       "120          | 289              | 25           | 62              | 125                       | False\n",
       "143          | 299              | 30           | 66              | 136                       | True\n",
       "140          | 351              | 27           | 68              | 120                       | False\n",
       "... (1164 rows omitted)"
      ]
     },
     "execution_count": 2,
     "metadata": {},
     "output_type": "execute_result"
    }
   ],
   "source": [
    "baby = Table.read_table('../Data/baby.csv')\n",
    "baby"
   ]
  },
  {
   "cell_type": "code",
   "execution_count": 3,
   "metadata": {},
   "outputs": [
    {
     "data": {
      "text/html": [
       "<table border=\"1\" class=\"dataframe\">\n",
       "    <thead>\n",
       "        <tr>\n",
       "            <th>Maternal Smoker</th> <th>Birth Weight</th>\n",
       "        </tr>\n",
       "    </thead>\n",
       "    <tbody>\n",
       "        <tr>\n",
       "            <td>False          </td> <td>120         </td>\n",
       "        </tr>\n",
       "        <tr>\n",
       "            <td>False          </td> <td>113         </td>\n",
       "        </tr>\n",
       "        <tr>\n",
       "            <td>True           </td> <td>128         </td>\n",
       "        </tr>\n",
       "        <tr>\n",
       "            <td>True           </td> <td>108         </td>\n",
       "        </tr>\n",
       "        <tr>\n",
       "            <td>False          </td> <td>136         </td>\n",
       "        </tr>\n",
       "        <tr>\n",
       "            <td>False          </td> <td>138         </td>\n",
       "        </tr>\n",
       "        <tr>\n",
       "            <td>False          </td> <td>132         </td>\n",
       "        </tr>\n",
       "        <tr>\n",
       "            <td>False          </td> <td>120         </td>\n",
       "        </tr>\n",
       "        <tr>\n",
       "            <td>True           </td> <td>143         </td>\n",
       "        </tr>\n",
       "        <tr>\n",
       "            <td>False          </td> <td>140         </td>\n",
       "        </tr>\n",
       "    </tbody>\n",
       "</table>\n",
       "<p>... (1164 rows omitted)</p>"
      ],
      "text/plain": [
       "Maternal Smoker | Birth Weight\n",
       "False           | 120\n",
       "False           | 113\n",
       "True            | 128\n",
       "True            | 108\n",
       "False           | 136\n",
       "False           | 138\n",
       "False           | 132\n",
       "False           | 120\n",
       "True            | 143\n",
       "False           | 140\n",
       "... (1164 rows omitted)"
      ]
     },
     "execution_count": 3,
     "metadata": {},
     "output_type": "execute_result"
    }
   ],
   "source": [
    "smoking_and_birthweight = baby.select('Maternal Smoker', 'Birth Weight')\n",
    "smoking_and_birthweight"
   ]
  },
  {
   "cell_type": "code",
   "execution_count": 4,
   "metadata": {},
   "outputs": [
    {
     "data": {
      "text/html": [
       "<table border=\"1\" class=\"dataframe\">\n",
       "    <thead>\n",
       "        <tr>\n",
       "            <th>Maternal Smoker</th> <th>count</th>\n",
       "        </tr>\n",
       "    </thead>\n",
       "    <tbody>\n",
       "        <tr>\n",
       "            <td>False          </td> <td>715  </td>\n",
       "        </tr>\n",
       "        <tr>\n",
       "            <td>True           </td> <td>459  </td>\n",
       "        </tr>\n",
       "    </tbody>\n",
       "</table>"
      ],
      "text/plain": [
       "Maternal Smoker | count\n",
       "False           | 715\n",
       "True            | 459"
      ]
     },
     "execution_count": 4,
     "metadata": {},
     "output_type": "execute_result"
    }
   ],
   "source": [
    "smoking_and_birthweight.group('Maternal Smoker')"
   ]
  },
  {
   "cell_type": "code",
   "execution_count": 5,
   "metadata": {},
   "outputs": [
    {
     "data": {
      "image/png": "[encoded data removed]",
      "text/plain": [
       "<Figure size 432x288 with 1 Axes>"
      ]
     },
     "metadata": {},
     "output_type": "display_data"
    }
   ],
   "source": [
    "smoking_and_birthweight.hist('Birth Weight', group='Maternal Smoker')"
   ]
  },
  {
   "cell_type": "code",
   "execution_count": 6,
   "metadata": {},
   "outputs": [
    {
     "data": {
      "text/html": [
       "<table border=\"1\" class=\"dataframe\">\n",
       "    <thead>\n",
       "        <tr>\n",
       "            <th>Maternal Smoker</th> <th>Birth Weight average</th>\n",
       "        </tr>\n",
       "    </thead>\n",
       "    <tbody>\n",
       "        <tr>\n",
       "            <td>False          </td> <td>123.085             </td>\n",
       "        </tr>\n",
       "        <tr>\n",
       "            <td>True           </td> <td>113.819             </td>\n",
       "        </tr>\n",
       "    </tbody>\n",
       "</table>"
      ],
      "text/plain": [
       "Maternal Smoker | Birth Weight average\n",
       "False           | 123.085\n",
       "True            | 113.819"
      ]
     },
     "execution_count": 6,
     "metadata": {},
     "output_type": "execute_result"
    }
   ],
   "source": [
    "means_tbl = smoking_and_birthweight.group('Maternal Smoker', np.average)\n",
    "means_tbl"
   ]
  },
  {
   "cell_type": "code",
   "execution_count": 7,
   "metadata": {},
   "outputs": [
    {
     "data": {
      "text/plain": [
       "9.266142572024918"
      ]
     },
     "execution_count": 7,
     "metadata": {},
     "output_type": "execute_result"
    }
   ],
   "source": [
    "means = means_tbl.column(1)\n",
    "observed_difference = means.item(0) - means.item(1)\n",
    "observed_difference"
   ]
  },
  {
   "cell_type": "code",
   "execution_count": 8,
   "metadata": {},
   "outputs": [
    {
     "data": {
      "text/html": [
       "<table border=\"1\" class=\"dataframe\">\n",
       "    <thead>\n",
       "        <tr>\n",
       "            <th>Birth Weight</th>\n",
       "        </tr>\n",
       "    </thead>\n",
       "    <tbody>\n",
       "        <tr>\n",
       "            <td>120         </td>\n",
       "        </tr>\n",
       "        <tr>\n",
       "            <td>113         </td>\n",
       "        </tr>\n",
       "        <tr>\n",
       "            <td>128         </td>\n",
       "        </tr>\n",
       "        <tr>\n",
       "            <td>108         </td>\n",
       "        </tr>\n",
       "        <tr>\n",
       "            <td>136         </td>\n",
       "        </tr>\n",
       "        <tr>\n",
       "            <td>138         </td>\n",
       "        </tr>\n",
       "        <tr>\n",
       "            <td>132         </td>\n",
       "        </tr>\n",
       "        <tr>\n",
       "            <td>120         </td>\n",
       "        </tr>\n",
       "        <tr>\n",
       "            <td>143         </td>\n",
       "        </tr>\n",
       "        <tr>\n",
       "            <td>140         </td>\n",
       "        </tr>\n",
       "    </tbody>\n",
       "</table>\n",
       "<p>... (1164 rows omitted)</p>"
      ],
      "text/plain": [
       "Birth Weight\n",
       "120\n",
       "113\n",
       "128\n",
       "108\n",
       "136\n",
       "138\n",
       "132\n",
       "120\n",
       "143\n",
       "140\n",
       "... (1164 rows omitted)"
      ]
     },
     "execution_count": 8,
     "metadata": {},
     "output_type": "execute_result"
    }
   ],
   "source": [
    "weights = smoking_and_birthweight.select('Birth Weight')\n",
    "weights"
   ]
  },
  {
   "cell_type": "code",
   "execution_count": 9,
   "metadata": {},
   "outputs": [
    {
     "data": {
      "text/html": [
       "<table border=\"1\" class=\"dataframe\">\n",
       "    <thead>\n",
       "        <tr>\n",
       "            <th>Birth Weight</th>\n",
       "        </tr>\n",
       "    </thead>\n",
       "    <tbody>\n",
       "        <tr>\n",
       "            <td>120         </td>\n",
       "        </tr>\n",
       "        <tr>\n",
       "            <td>145         </td>\n",
       "        </tr>\n",
       "        <tr>\n",
       "            <td>123         </td>\n",
       "        </tr>\n",
       "        <tr>\n",
       "            <td>128         </td>\n",
       "        </tr>\n",
       "        <tr>\n",
       "            <td>98          </td>\n",
       "        </tr>\n",
       "        <tr>\n",
       "            <td>99          </td>\n",
       "        </tr>\n",
       "        <tr>\n",
       "            <td>114         </td>\n",
       "        </tr>\n",
       "        <tr>\n",
       "            <td>104         </td>\n",
       "        </tr>\n",
       "        <tr>\n",
       "            <td>142         </td>\n",
       "        </tr>\n",
       "        <tr>\n",
       "            <td>103         </td>\n",
       "        </tr>\n",
       "    </tbody>\n",
       "</table>\n",
       "<p>... (1164 rows omitted)</p>"
      ],
      "text/plain": [
       "Birth Weight\n",
       "120\n",
       "145\n",
       "123\n",
       "128\n",
       "98\n",
       "99\n",
       "114\n",
       "104\n",
       "142\n",
       "103\n",
       "... (1164 rows omitted)"
      ]
     },
     "execution_count": 9,
     "metadata": {},
     "output_type": "execute_result"
    }
   ],
   "source": [
    "weights.sample(with_replacement=False)"
   ]
  },
  {
   "cell_type": "code",
   "execution_count": 10,
   "metadata": {},
   "outputs": [],
   "source": [
    "shuffled_weights = weights.sample(with_replacement=False).column(0)"
   ]
  },
  {
   "cell_type": "code",
   "execution_count": 11,
   "metadata": {},
   "outputs": [
    {
     "data": {
      "text/html": [
       "<table border=\"1\" class=\"dataframe\">\n",
       "    <thead>\n",
       "        <tr>\n",
       "            <th>Maternal Smoker</th> <th>Birth Weight</th> <th>Shuffled Birth Weight</th>\n",
       "        </tr>\n",
       "    </thead>\n",
       "    <tbody>\n",
       "        <tr>\n",
       "            <td>False          </td> <td>120         </td> <td>128                  </td>\n",
       "        </tr>\n",
       "        <tr>\n",
       "            <td>False          </td> <td>113         </td> <td>118                  </td>\n",
       "        </tr>\n",
       "        <tr>\n",
       "            <td>True           </td> <td>128         </td> <td>98                   </td>\n",
       "        </tr>\n",
       "        <tr>\n",
       "            <td>True           </td> <td>108         </td> <td>105                  </td>\n",
       "        </tr>\n",
       "        <tr>\n",
       "            <td>False          </td> <td>136         </td> <td>115                  </td>\n",
       "        </tr>\n",
       "        <tr>\n",
       "            <td>False          </td> <td>138         </td> <td>105                  </td>\n",
       "        </tr>\n",
       "        <tr>\n",
       "            <td>False          </td> <td>132         </td> <td>119                  </td>\n",
       "        </tr>\n",
       "        <tr>\n",
       "            <td>False          </td> <td>120         </td> <td>99                   </td>\n",
       "        </tr>\n",
       "        <tr>\n",
       "            <td>True           </td> <td>143         </td> <td>117                  </td>\n",
       "        </tr>\n",
       "        <tr>\n",
       "            <td>False          </td> <td>140         </td> <td>88                   </td>\n",
       "        </tr>\n",
       "    </tbody>\n",
       "</table>\n",
       "<p>... (1164 rows omitted)</p>"
      ],
      "text/plain": [
       "Maternal Smoker | Birth Weight | Shuffled Birth Weight\n",
       "False           | 120          | 128\n",
       "False           | 113          | 118\n",
       "True            | 128          | 98\n",
       "True            | 108          | 105\n",
       "False           | 136          | 115\n",
       "False           | 138          | 105\n",
       "False           | 132          | 119\n",
       "False           | 120          | 99\n",
       "True            | 143          | 117\n",
       "False           | 140          | 88\n",
       "... (1164 rows omitted)"
      ]
     },
     "execution_count": 11,
     "metadata": {},
     "output_type": "execute_result"
    }
   ],
   "source": [
    "original_and_shuffled = smoking_and_birthweight.with_column(     \n",
    "    'Shuffled Birth Weight', shuffled_weights\n",
    ")\n",
    "original_and_shuffled"
   ]
  },
  {
   "cell_type": "code",
   "execution_count": 12,
   "metadata": {},
   "outputs": [
    {
     "data": {
      "text/html": [
       "<table border=\"1\" class=\"dataframe\">\n",
       "    <thead>\n",
       "        <tr>\n",
       "            <th>Maternal Smoker</th> <th>Birth Weight average</th> <th>Shuffled Birth Weight average</th>\n",
       "        </tr>\n",
       "    </thead>\n",
       "    <tbody>\n",
       "        <tr>\n",
       "            <td>False          </td> <td>123.085             </td> <td>119.357                      </td>\n",
       "        </tr>\n",
       "        <tr>\n",
       "            <td>True           </td> <td>113.819             </td> <td>119.627                      </td>\n",
       "        </tr>\n",
       "    </tbody>\n",
       "</table>"
      ],
      "text/plain": [
       "Maternal Smoker | Birth Weight average | Shuffled Birth Weight average\n",
       "False           | 123.085              | 119.357\n",
       "True            | 113.819              | 119.627"
      ]
     },
     "execution_count": 12,
     "metadata": {},
     "output_type": "execute_result"
    }
   ],
   "source": [
    "original_and_shuffled.group('Maternal Smoker', np.average)"
   ]
  },
  {
   "cell_type": "code",
   "execution_count": 14,
   "metadata": {},
   "outputs": [
    {
     "data": {
      "text/html": [
       "<table border=\"1\" class=\"dataframe\">\n",
       "    <thead>\n",
       "        <tr>\n",
       "            <th>Maternal Smoker</th>\n",
       "        </tr>\n",
       "    </thead>\n",
       "    <tbody>\n",
       "        <tr>\n",
       "            <td>False          </td>\n",
       "        </tr>\n",
       "        <tr>\n",
       "            <td>False          </td>\n",
       "        </tr>\n",
       "        <tr>\n",
       "            <td>True           </td>\n",
       "        </tr>\n",
       "        <tr>\n",
       "            <td>True           </td>\n",
       "        </tr>\n",
       "        <tr>\n",
       "            <td>False          </td>\n",
       "        </tr>\n",
       "        <tr>\n",
       "            <td>False          </td>\n",
       "        </tr>\n",
       "        <tr>\n",
       "            <td>False          </td>\n",
       "        </tr>\n",
       "        <tr>\n",
       "            <td>False          </td>\n",
       "        </tr>\n",
       "        <tr>\n",
       "            <td>True           </td>\n",
       "        </tr>\n",
       "        <tr>\n",
       "            <td>False          </td>\n",
       "        </tr>\n",
       "    </tbody>\n",
       "</table>\n",
       "<p>... (1164 rows omitted)</p>"
      ],
      "text/plain": [
       "Maternal Smoker\n",
       "False\n",
       "False\n",
       "True\n",
       "True\n",
       "False\n",
       "False\n",
       "False\n",
       "False\n",
       "True\n",
       "False\n",
       "... (1164 rows omitted)"
      ]
     },
     "execution_count": 14,
     "metadata": {},
     "output_type": "execute_result"
    }
   ],
   "source": [
    "group_labels = baby.select('Maternal Smoker')\n",
    "group_labels"
   ]
  },
  {
   "cell_type": "code",
   "execution_count": 19,
   "metadata": {},
   "outputs": [
    {
     "data": {
      "text/plain": [
       "-0.6857686975334047"
      ]
     },
     "execution_count": 19,
     "metadata": {},
     "output_type": "execute_result"
    }
   ],
   "source": [
    "shuffled_weights = weights.sample(with_replacement=False).column(0)\n",
    "shuffled_tbl = group_labels.with_column('Shuffled Weight', shuffled_weights)\n",
    "means = shuffled_tbl.group('Maternal Smoker', np.average).column(1)\n",
    "new_difference = means.item(0) - means.item(1)\n",
    "new_difference"
   ]
  },
  {
   "cell_type": "code",
   "execution_count": 20,
   "metadata": {},
   "outputs": [],
   "source": [
    "differences = make_array()\n",
    "\n",
    "for i in np.arange(5000):\n",
    "    shuffled_weights = weights.sample(with_replacement=False).column(0)\n",
    "    shuffled_tbl = group_labels.with_column('Shuffled Weight', shuffled_weights)\n",
    "    means = shuffled_tbl.group('Maternal Smoker', np.average).column(1)\n",
    "    new_difference = means.item(0) - means.item(1)\n",
    "    differences = np.append(differences, new_difference)"
   ]
  },
  {
   "cell_type": "code",
   "execution_count": 21,
   "metadata": {},
   "outputs": [
    {
     "data": {
      "image/png": "[encoded data removed]",
      "text/plain": [
       "<Figure size 432x288 with 1 Axes>"
      ]
     },
     "metadata": {},
     "output_type": "display_data"
    }
   ],
   "source": [
    "Table().with_column('Difference Between Means', differences).hist(bins=20)"
   ]
  },
  {
   "cell_type": "code",
   "execution_count": 22,
   "metadata": {},
   "outputs": [
    {
     "data": {
      "text/plain": [
       "9.266142572024918"
      ]
     },
     "execution_count": 22,
     "metadata": {},
     "output_type": "execute_result"
    }
   ],
   "source": [
    "observed_difference"
   ]
  },
  {
   "cell_type": "code",
   "execution_count": 23,
   "metadata": {},
   "outputs": [],
   "source": [
    "## Lecture 8.4"
   ]
  },
  {
   "cell_type": "code",
   "execution_count": 24,
   "metadata": {},
   "outputs": [
    {
     "data": {
      "text/html": [
       "<table border=\"1\" class=\"dataframe\">\n",
       "    <thead>\n",
       "        <tr>\n",
       "            <th>Team</th> <th>Blakeman</th> <th>Prioleau</th>\n",
       "        </tr>\n",
       "    </thead>\n",
       "    <tbody>\n",
       "        <tr>\n",
       "            <td>Patriots</td> <td>11.5    </td> <td>11.8    </td>\n",
       "        </tr>\n",
       "        <tr>\n",
       "            <td>Patriots</td> <td>10.85   </td> <td>11.2    </td>\n",
       "        </tr>\n",
       "        <tr>\n",
       "            <td>Patriots</td> <td>11.15   </td> <td>11.5    </td>\n",
       "        </tr>\n",
       "        <tr>\n",
       "            <td>Patriots</td> <td>10.7    </td> <td>11      </td>\n",
       "        </tr>\n",
       "        <tr>\n",
       "            <td>Patriots</td> <td>11.1    </td> <td>11.45   </td>\n",
       "        </tr>\n",
       "        <tr>\n",
       "            <td>Patriots</td> <td>11.6    </td> <td>11.95   </td>\n",
       "        </tr>\n",
       "        <tr>\n",
       "            <td>Patriots</td> <td>11.85   </td> <td>12.3    </td>\n",
       "        </tr>\n",
       "        <tr>\n",
       "            <td>Patriots</td> <td>11.1    </td> <td>11.55   </td>\n",
       "        </tr>\n",
       "        <tr>\n",
       "            <td>Patriots</td> <td>10.95   </td> <td>11.35   </td>\n",
       "        </tr>\n",
       "        <tr>\n",
       "            <td>Patriots</td> <td>10.5    </td> <td>10.9    </td>\n",
       "        </tr>\n",
       "    </tbody>\n",
       "</table>\n",
       "<p>... (5 rows omitted)</p>"
      ],
      "text/plain": [
       "Team     | Blakeman | Prioleau\n",
       "Patriots | 11.5     | 11.8\n",
       "Patriots | 10.85    | 11.2\n",
       "Patriots | 11.15    | 11.5\n",
       "Patriots | 10.7     | 11\n",
       "Patriots | 11.1     | 11.45\n",
       "Patriots | 11.6     | 11.95\n",
       "Patriots | 11.85    | 12.3\n",
       "Patriots | 11.1     | 11.55\n",
       "Patriots | 10.95    | 11.35\n",
       "Patriots | 10.5     | 10.9\n",
       "... (5 rows omitted)"
      ]
     },
     "execution_count": 24,
     "metadata": {},
     "output_type": "execute_result"
    }
   ],
   "source": [
    "football = Table.read_table('../Data/deflategate.csv')\n",
    "football"
   ]
  },
  {
   "cell_type": "code",
   "execution_count": 26,
   "metadata": {},
   "outputs": [
    {
     "ename": "ValueError",
     "evalue": "The index 2 is not in the table. Only indices between 0 and 1 are valid",
     "output_type": "error",
     "traceback": [
      "\u001b[0;31m---------------------------------------------------------------------------\u001b[0m",
      "\u001b[0;31mValueError\u001b[0m                                Traceback (most recent call last)",
      "\u001b[0;32m<ipython-input-26-1a6ae6aac118>\u001b[0m in \u001b[0;36m<module>\u001b[0;34m\u001b[0m\n\u001b[1;32m      1\u001b[0m football = football.drop(1, 2).with_column(\n\u001b[0;32m----> 2\u001b[0;31m     \u001b[0;34m'Combined'\u001b[0m\u001b[0;34m,\u001b[0m \u001b[0;34m(\u001b[0m\u001b[0mfootball\u001b[0m\u001b[0;34m.\u001b[0m\u001b[0mcolumn\u001b[0m\u001b[0;34m(\u001b[0m\u001b[0;36m1\u001b[0m\u001b[0;34m)\u001b[0m \u001b[0;34m+\u001b[0m \u001b[0mfootball\u001b[0m\u001b[0;34m.\u001b[0m\u001b[0mcolumn\u001b[0m\u001b[0;34m(\u001b[0m\u001b[0;36m2\u001b[0m\u001b[0;34m)\u001b[0m\u001b[0;34m)\u001b[0m\u001b[0;34m/\u001b[0m\u001b[0;36m2\u001b[0m\u001b[0;34m\u001b[0m\u001b[0;34m\u001b[0m\u001b[0m\n\u001b[0m\u001b[1;32m      3\u001b[0m )\n\u001b[1;32m      4\u001b[0m \u001b[0mfootball\u001b[0m\u001b[0;34m.\u001b[0m\u001b[0mshow\u001b[0m\u001b[0;34m(\u001b[0m\u001b[0;34m)\u001b[0m\u001b[0;34m\u001b[0m\u001b[0;34m\u001b[0m\u001b[0m\n",
      "\u001b[0;32m~/anaconda3/lib/python3.7/site-packages/datascience/tables.py\u001b[0m in \u001b[0;36mcolumn\u001b[0;34m(self, index_or_label)\u001b[0m\n\u001b[1;32m    373\u001b[0m                 \u001b[0;34m'The index {} is not in the table. Only indices between '\u001b[0m\u001b[0;34m\u001b[0m\u001b[0;34m\u001b[0m\u001b[0m\n\u001b[1;32m    374\u001b[0m                 \u001b[0;34m'0 and {} are valid'\u001b[0m\u001b[0;34m\u001b[0m\u001b[0;34m\u001b[0m\u001b[0m\n\u001b[0;32m--> 375\u001b[0;31m                 \u001b[0;34m.\u001b[0m\u001b[0mformat\u001b[0m\u001b[0;34m(\u001b[0m\u001b[0mindex_or_label\u001b[0m\u001b[0;34m,\u001b[0m \u001b[0mlen\u001b[0m\u001b[0;34m(\u001b[0m\u001b[0mself\u001b[0m\u001b[0;34m.\u001b[0m\u001b[0mlabels\u001b[0m\u001b[0;34m)\u001b[0m \u001b[0;34m-\u001b[0m \u001b[0;36m1\u001b[0m\u001b[0;34m)\u001b[0m\u001b[0;34m\u001b[0m\u001b[0;34m\u001b[0m\u001b[0m\n\u001b[0m\u001b[1;32m    376\u001b[0m             )\n\u001b[1;32m    377\u001b[0m \u001b[0;34m\u001b[0m\u001b[0m\n",
      "\u001b[0;31mValueError\u001b[0m: The index 2 is not in the table. Only indices between 0 and 1 are valid"
     ]
    }
   ],
   "source": [
    "football = football.drop(1, 2).with_column(\n",
    "    'Combined', (football.column(1) + football.column(2))/2\n",
    ")\n",
    "football.show()"
   ]
  },
  {
   "cell_type": "code",
   "execution_count": 27,
   "metadata": {},
   "outputs": [
    {
     "data": {
      "text/html": [
       "<table border=\"1\" class=\"dataframe\">\n",
       "    <thead>\n",
       "        <tr>\n",
       "            <th>Team</th> <th>Combined</th>\n",
       "        </tr>\n",
       "    </thead>\n",
       "    <tbody>\n",
       "        <tr>\n",
       "            <td>Patriots</td> <td>11.65   </td>\n",
       "        </tr>\n",
       "        <tr>\n",
       "            <td>Patriots</td> <td>11.025  </td>\n",
       "        </tr>\n",
       "        <tr>\n",
       "            <td>Patriots</td> <td>11.325  </td>\n",
       "        </tr>\n",
       "        <tr>\n",
       "            <td>Patriots</td> <td>10.85   </td>\n",
       "        </tr>\n",
       "        <tr>\n",
       "            <td>Patriots</td> <td>11.275  </td>\n",
       "        </tr>\n",
       "        <tr>\n",
       "            <td>Patriots</td> <td>11.775  </td>\n",
       "        </tr>\n",
       "        <tr>\n",
       "            <td>Patriots</td> <td>12.075  </td>\n",
       "        </tr>\n",
       "        <tr>\n",
       "            <td>Patriots</td> <td>11.325  </td>\n",
       "        </tr>\n",
       "        <tr>\n",
       "            <td>Patriots</td> <td>11.15   </td>\n",
       "        </tr>\n",
       "        <tr>\n",
       "            <td>Patriots</td> <td>10.7    </td>\n",
       "        </tr>\n",
       "        <tr>\n",
       "            <td>Patriots</td> <td>11.125  </td>\n",
       "        </tr>\n",
       "        <tr>\n",
       "            <td>Colts   </td> <td>12.525  </td>\n",
       "        </tr>\n",
       "        <tr>\n",
       "            <td>Colts   </td> <td>12.525  </td>\n",
       "        </tr>\n",
       "        <tr>\n",
       "            <td>Colts   </td> <td>12.725  </td>\n",
       "        </tr>\n",
       "        <tr>\n",
       "            <td>Colts   </td> <td>12.35   </td>\n",
       "        </tr>\n",
       "    </tbody>\n",
       "</table>"
      ],
      "text/plain": [
       "<IPython.core.display.HTML object>"
      ]
     },
     "metadata": {},
     "output_type": "display_data"
    }
   ],
   "source": [
    "football.show()"
   ]
  },
  {
   "cell_type": "code",
   "execution_count": 28,
   "metadata": {},
   "outputs": [
    {
     "data": {
      "text/plain": [
       "array([12.5, 12.5, 12.5, 12.5, 12.5, 12.5, 12.5, 12.5, 12.5, 12.5, 12.5,\n",
       "       13. , 13. , 13. , 13. ])"
      ]
     },
     "execution_count": 28,
     "metadata": {},
     "output_type": "execute_result"
    }
   ],
   "source": [
    "start = np.append(np.ones(11)*12.5, np.ones(4)*13)\n",
    "start"
   ]
  },
  {
   "cell_type": "code",
   "execution_count": 29,
   "metadata": {},
   "outputs": [
    {
     "data": {
      "text/plain": [
       "array([0.85 , 1.475, 1.175, 1.65 , 1.225, 0.725, 0.425, 1.175, 1.35 ,\n",
       "       1.8  , 1.375, 0.475, 0.475, 0.275, 0.65 ])"
      ]
     },
     "execution_count": 29,
     "metadata": {},
     "output_type": "execute_result"
    }
   ],
   "source": [
    "drops = start - football.column(1)\n",
    "drops"
   ]
  },
  {
   "cell_type": "code",
   "execution_count": 30,
   "metadata": {},
   "outputs": [],
   "source": [
    "football = football.select('Team').with_column('Drop', drops)"
   ]
  },
  {
   "cell_type": "code",
   "execution_count": 32,
   "metadata": {},
   "outputs": [
    {
     "data": {
      "text/html": [
       "<table border=\"1\" class=\"dataframe\">\n",
       "    <thead>\n",
       "        <tr>\n",
       "            <th>Team</th> <th>Drop</th>\n",
       "        </tr>\n",
       "    </thead>\n",
       "    <tbody>\n",
       "        <tr>\n",
       "            <td>Patriots</td> <td>0.85 </td>\n",
       "        </tr>\n",
       "        <tr>\n",
       "            <td>Patriots</td> <td>1.475</td>\n",
       "        </tr>\n",
       "        <tr>\n",
       "            <td>Patriots</td> <td>1.175</td>\n",
       "        </tr>\n",
       "        <tr>\n",
       "            <td>Patriots</td> <td>1.65 </td>\n",
       "        </tr>\n",
       "        <tr>\n",
       "            <td>Patriots</td> <td>1.225</td>\n",
       "        </tr>\n",
       "        <tr>\n",
       "            <td>Patriots</td> <td>0.725</td>\n",
       "        </tr>\n",
       "        <tr>\n",
       "            <td>Patriots</td> <td>0.425</td>\n",
       "        </tr>\n",
       "        <tr>\n",
       "            <td>Patriots</td> <td>1.175</td>\n",
       "        </tr>\n",
       "        <tr>\n",
       "            <td>Patriots</td> <td>1.35 </td>\n",
       "        </tr>\n",
       "        <tr>\n",
       "            <td>Patriots</td> <td>1.8  </td>\n",
       "        </tr>\n",
       "        <tr>\n",
       "            <td>Patriots</td> <td>1.375</td>\n",
       "        </tr>\n",
       "        <tr>\n",
       "            <td>Colts   </td> <td>0.475</td>\n",
       "        </tr>\n",
       "        <tr>\n",
       "            <td>Colts   </td> <td>0.475</td>\n",
       "        </tr>\n",
       "        <tr>\n",
       "            <td>Colts   </td> <td>0.275</td>\n",
       "        </tr>\n",
       "        <tr>\n",
       "            <td>Colts   </td> <td>0.65 </td>\n",
       "        </tr>\n",
       "    </tbody>\n",
       "</table>"
      ],
      "text/plain": [
       "<IPython.core.display.HTML object>"
      ]
     },
     "metadata": {},
     "output_type": "display_data"
    }
   ],
   "source": [
    "football.show()"
   ]
  },
  {
   "cell_type": "code",
   "execution_count": 33,
   "metadata": {},
   "outputs": [],
   "source": [
    "means_tbl = football.group('Team', np.average)"
   ]
  },
  {
   "cell_type": "code",
   "execution_count": 34,
   "metadata": {},
   "outputs": [
    {
     "data": {
      "text/html": [
       "<table border=\"1\" class=\"dataframe\">\n",
       "    <thead>\n",
       "        <tr>\n",
       "            <th>Team</th> <th>Drop average</th>\n",
       "        </tr>\n",
       "    </thead>\n",
       "    <tbody>\n",
       "        <tr>\n",
       "            <td>Colts   </td> <td>0.46875     </td>\n",
       "        </tr>\n",
       "        <tr>\n",
       "            <td>Patriots</td> <td>1.20227     </td>\n",
       "        </tr>\n",
       "    </tbody>\n",
       "</table>"
      ],
      "text/plain": [
       "Team     | Drop average\n",
       "Colts    | 0.46875\n",
       "Patriots | 1.20227"
      ]
     },
     "execution_count": 34,
     "metadata": {},
     "output_type": "execute_result"
    }
   ],
   "source": [
    "means_tbl"
   ]
  },
  {
   "cell_type": "code",
   "execution_count": 35,
   "metadata": {},
   "outputs": [],
   "source": [
    "means = means_tbl.column(1)\n",
    "observed_difference = means.item(0)-means.item(1)"
   ]
  },
  {
   "cell_type": "code",
   "execution_count": 36,
   "metadata": {},
   "outputs": [
    {
     "data": {
      "text/plain": [
       "-0.733522727272728"
      ]
     },
     "execution_count": 36,
     "metadata": {},
     "output_type": "execute_result"
    }
   ],
   "source": [
    "observed_difference"
   ]
  },
  {
   "cell_type": "code",
   "execution_count": 37,
   "metadata": {},
   "outputs": [
    {
     "data": {
      "text/html": [
       "<table border=\"1\" class=\"dataframe\">\n",
       "    <thead>\n",
       "        <tr>\n",
       "            <th>Drop</th>\n",
       "        </tr>\n",
       "    </thead>\n",
       "    <tbody>\n",
       "        <tr>\n",
       "            <td>0.85 </td>\n",
       "        </tr>\n",
       "        <tr>\n",
       "            <td>1.475</td>\n",
       "        </tr>\n",
       "        <tr>\n",
       "            <td>1.175</td>\n",
       "        </tr>\n",
       "        <tr>\n",
       "            <td>1.65 </td>\n",
       "        </tr>\n",
       "        <tr>\n",
       "            <td>1.225</td>\n",
       "        </tr>\n",
       "        <tr>\n",
       "            <td>0.725</td>\n",
       "        </tr>\n",
       "        <tr>\n",
       "            <td>0.425</td>\n",
       "        </tr>\n",
       "        <tr>\n",
       "            <td>1.175</td>\n",
       "        </tr>\n",
       "        <tr>\n",
       "            <td>1.35 </td>\n",
       "        </tr>\n",
       "        <tr>\n",
       "            <td>1.8  </td>\n",
       "        </tr>\n",
       "    </tbody>\n",
       "</table>\n",
       "<p>... (5 rows omitted)</p>"
      ],
      "text/plain": [
       "Drop\n",
       "0.85\n",
       "1.475\n",
       "1.175\n",
       "1.65\n",
       "1.225\n",
       "0.725\n",
       "0.425\n",
       "1.175\n",
       "1.35\n",
       "1.8\n",
       "... (5 rows omitted)"
      ]
     },
     "execution_count": 37,
     "metadata": {},
     "output_type": "execute_result"
    }
   ],
   "source": [
    "group_labels = football.select('Team')\n",
    "drop_tbl = football.select('Drop')\n",
    "drop_tbl"
   ]
  },
  {
   "cell_type": "code",
   "execution_count": 38,
   "metadata": {},
   "outputs": [
    {
     "data": {
      "text/plain": [
       "0.02499999999999969"
      ]
     },
     "execution_count": 38,
     "metadata": {},
     "output_type": "execute_result"
    }
   ],
   "source": [
    "shuffled_drops = drop_tbl.sample(with_replacement=False).column(0)\n",
    "shuffled_tbl = group_labels.with_column('Shuffled Drop', shuffled_drops)\n",
    "means = shuffled_tbl.group('Team', np.average).column(1)\n",
    "new_difference = means.item(0) - means.item(1)\n",
    "new_difference"
   ]
  },
  {
   "cell_type": "code",
   "execution_count": 39,
   "metadata": {},
   "outputs": [
    {
     "data": {
      "text/plain": [
       "-0.4693181818181813"
      ]
     },
     "execution_count": 39,
     "metadata": {},
     "output_type": "execute_result"
    }
   ],
   "source": [
    "differences = make_array()\n",
    "\n",
    "for i in np.arange(20000):\n",
    "    shuffled_drops = drop_tbl.sample(with_replacement=False).column(0)\n",
    "    shuffled_tbl = group_labels.with_column('Shuffled Drop', shuffled_drops)\n",
    "    means = shuffled_tbl.group('Team', np.average).column(1)\n",
    "    new_difference = means.item(0) - means.item(1)\n",
    "    differences = np.append(differences, new_difference)\n",
    "\n",
    "new_difference"
   ]
  },
  {
   "cell_type": "code",
   "execution_count": 40,
   "metadata": {},
   "outputs": [
    {
     "data": {
      "text/plain": [
       "<matplotlib.collections.PathCollection at 0x7fea56209748>"
      ]
     },
     "execution_count": 40,
     "metadata": {},
     "output_type": "execute_result"
    },
    {
     "data": {
      "image/png": "[encoded data removed]",
      "text/plain": [
       "<Figure size 432x288 with 1 Axes>"
      ]
     },
     "metadata": {},
     "output_type": "display_data"
    }
   ],
   "source": [
    "Table().with_column('Difference between means', differences).hist()\n",
    "plt.scatter(observed_difference, 0, color='red', s=40)"
   ]
  },
  {
   "cell_type": "code",
   "execution_count": 41,
   "metadata": {},
   "outputs": [
    {
     "data": {
      "text/plain": [
       "0.0028"
      ]
     },
     "execution_count": 41,
     "metadata": {},
     "output_type": "execute_result"
    }
   ],
   "source": [
    "np.count_nonzero(differences <= observed_difference)/20000"
   ]
  },
  {
   "cell_type": "code",
   "execution_count": 42,
   "metadata": {},
   "outputs": [],
   "source": [
    "## practice"
   ]
  },
  {
   "cell_type": "code",
   "execution_count": 43,
   "metadata": {},
   "outputs": [
    {
     "data": {
      "text/html": [
       "<table border=\"1\" class=\"dataframe\">\n",
       "    <thead>\n",
       "        <tr>\n",
       "            <th>Team</th> <th>Drop</th>\n",
       "        </tr>\n",
       "    </thead>\n",
       "    <tbody>\n",
       "        <tr>\n",
       "            <td>Patriots</td> <td>0.85 </td>\n",
       "        </tr>\n",
       "        <tr>\n",
       "            <td>Patriots</td> <td>1.475</td>\n",
       "        </tr>\n",
       "        <tr>\n",
       "            <td>Patriots</td> <td>1.175</td>\n",
       "        </tr>\n",
       "        <tr>\n",
       "            <td>Patriots</td> <td>1.65 </td>\n",
       "        </tr>\n",
       "        <tr>\n",
       "            <td>Patriots</td> <td>1.225</td>\n",
       "        </tr>\n",
       "        <tr>\n",
       "            <td>Patriots</td> <td>0.725</td>\n",
       "        </tr>\n",
       "        <tr>\n",
       "            <td>Patriots</td> <td>0.425</td>\n",
       "        </tr>\n",
       "        <tr>\n",
       "            <td>Patriots</td> <td>1.175</td>\n",
       "        </tr>\n",
       "        <tr>\n",
       "            <td>Patriots</td> <td>1.35 </td>\n",
       "        </tr>\n",
       "        <tr>\n",
       "            <td>Patriots</td> <td>1.8  </td>\n",
       "        </tr>\n",
       "    </tbody>\n",
       "</table>\n",
       "<p>... (5 rows omitted)</p>"
      ],
      "text/plain": [
       "Team     | Drop\n",
       "Patriots | 0.85\n",
       "Patriots | 1.475\n",
       "Patriots | 1.175\n",
       "Patriots | 1.65\n",
       "Patriots | 1.225\n",
       "Patriots | 0.725\n",
       "Patriots | 0.425\n",
       "Patriots | 1.175\n",
       "Patriots | 1.35\n",
       "Patriots | 1.8\n",
       "... (5 rows omitted)"
      ]
     },
     "execution_count": 43,
     "metadata": {},
     "output_type": "execute_result"
    }
   ],
   "source": [
    "football"
   ]
  },
  {
   "cell_type": "code",
   "execution_count": 51,
   "metadata": {},
   "outputs": [
    {
     "data": {
      "text/html": [
       "<table border=\"1\" class=\"dataframe\">\n",
       "    <thead>\n",
       "        <tr>\n",
       "            <th>Team</th> <th>Blakeman</th> <th>Prioleau</th>\n",
       "        </tr>\n",
       "    </thead>\n",
       "    <tbody>\n",
       "        <tr>\n",
       "            <td>Patriots</td> <td>11.5    </td> <td>11.8    </td>\n",
       "        </tr>\n",
       "        <tr>\n",
       "            <td>Patriots</td> <td>10.85   </td> <td>11.2    </td>\n",
       "        </tr>\n",
       "        <tr>\n",
       "            <td>Patriots</td> <td>11.15   </td> <td>11.5    </td>\n",
       "        </tr>\n",
       "        <tr>\n",
       "            <td>Patriots</td> <td>10.7    </td> <td>11      </td>\n",
       "        </tr>\n",
       "        <tr>\n",
       "            <td>Patriots</td> <td>11.1    </td> <td>11.45   </td>\n",
       "        </tr>\n",
       "        <tr>\n",
       "            <td>Patriots</td> <td>11.6    </td> <td>11.95   </td>\n",
       "        </tr>\n",
       "        <tr>\n",
       "            <td>Patriots</td> <td>11.85   </td> <td>12.3    </td>\n",
       "        </tr>\n",
       "        <tr>\n",
       "            <td>Patriots</td> <td>11.1    </td> <td>11.55   </td>\n",
       "        </tr>\n",
       "        <tr>\n",
       "            <td>Patriots</td> <td>10.95   </td> <td>11.35   </td>\n",
       "        </tr>\n",
       "        <tr>\n",
       "            <td>Patriots</td> <td>10.5    </td> <td>10.9    </td>\n",
       "        </tr>\n",
       "    </tbody>\n",
       "</table>\n",
       "<p>... (5 rows omitted)</p>"
      ],
      "text/plain": [
       "Team     | Blakeman | Prioleau\n",
       "Patriots | 11.5     | 11.8\n",
       "Patriots | 10.85    | 11.2\n",
       "Patriots | 11.15    | 11.5\n",
       "Patriots | 10.7     | 11\n",
       "Patriots | 11.1     | 11.45\n",
       "Patriots | 11.6     | 11.95\n",
       "Patriots | 11.85    | 12.3\n",
       "Patriots | 11.1     | 11.55\n",
       "Patriots | 10.95    | 11.35\n",
       "Patriots | 10.5     | 10.9\n",
       "... (5 rows omitted)"
      ]
     },
     "execution_count": 51,
     "metadata": {},
     "output_type": "execute_result"
    }
   ],
   "source": [
    "football = Table.read_table('../Data/deflategate.csv')\n",
    "football"
   ]
  },
  {
   "cell_type": "code",
   "execution_count": 52,
   "metadata": {},
   "outputs": [
    {
     "data": {
      "text/html": [
       "<table border=\"1\" class=\"dataframe\">\n",
       "    <thead>\n",
       "        <tr>\n",
       "            <th>Team</th> <th>Average</th>\n",
       "        </tr>\n",
       "    </thead>\n",
       "    <tbody>\n",
       "        <tr>\n",
       "            <td>Patriots</td> <td>11.65  </td>\n",
       "        </tr>\n",
       "        <tr>\n",
       "            <td>Patriots</td> <td>11.025 </td>\n",
       "        </tr>\n",
       "        <tr>\n",
       "            <td>Patriots</td> <td>11.325 </td>\n",
       "        </tr>\n",
       "        <tr>\n",
       "            <td>Patriots</td> <td>10.85  </td>\n",
       "        </tr>\n",
       "        <tr>\n",
       "            <td>Patriots</td> <td>11.275 </td>\n",
       "        </tr>\n",
       "        <tr>\n",
       "            <td>Patriots</td> <td>11.775 </td>\n",
       "        </tr>\n",
       "        <tr>\n",
       "            <td>Patriots</td> <td>12.075 </td>\n",
       "        </tr>\n",
       "        <tr>\n",
       "            <td>Patriots</td> <td>11.325 </td>\n",
       "        </tr>\n",
       "        <tr>\n",
       "            <td>Patriots</td> <td>11.15  </td>\n",
       "        </tr>\n",
       "        <tr>\n",
       "            <td>Patriots</td> <td>10.7   </td>\n",
       "        </tr>\n",
       "    </tbody>\n",
       "</table>\n",
       "<p>... (5 rows omitted)</p>"
      ],
      "text/plain": [
       "Team     | Average\n",
       "Patriots | 11.65\n",
       "Patriots | 11.025\n",
       "Patriots | 11.325\n",
       "Patriots | 10.85\n",
       "Patriots | 11.275\n",
       "Patriots | 11.775\n",
       "Patriots | 12.075\n",
       "Patriots | 11.325\n",
       "Patriots | 11.15\n",
       "Patriots | 10.7\n",
       "... (5 rows omitted)"
      ]
     },
     "execution_count": 52,
     "metadata": {},
     "output_type": "execute_result"
    }
   ],
   "source": [
    "football = football.with_column('Average', (football.column(1)+football.column(2))/2).drop(1,2)\n",
    "football"
   ]
  },
  {
   "cell_type": "code",
   "execution_count": 53,
   "metadata": {},
   "outputs": [
    {
     "data": {
      "text/plain": [
       "array([12.5, 12.5, 12.5, 12.5, 12.5, 12.5, 12.5, 12.5, 12.5, 12.5, 12.5,\n",
       "       13. , 13. , 13. , 13. ])"
      ]
     },
     "execution_count": 53,
     "metadata": {},
     "output_type": "execute_result"
    }
   ],
   "source": [
    "t1 = np.append(np.ones(11)*12.5, np.ones(4)*13)\n",
    "t1"
   ]
  },
  {
   "cell_type": "code",
   "execution_count": 55,
   "metadata": {},
   "outputs": [
    {
     "data": {
      "text/html": [
       "<table border=\"1\" class=\"dataframe\">\n",
       "    <thead>\n",
       "        <tr>\n",
       "            <th>Team</th> <th>Drop</th>\n",
       "        </tr>\n",
       "    </thead>\n",
       "    <tbody>\n",
       "        <tr>\n",
       "            <td>Patriots</td> <td>0.85 </td>\n",
       "        </tr>\n",
       "        <tr>\n",
       "            <td>Patriots</td> <td>1.475</td>\n",
       "        </tr>\n",
       "        <tr>\n",
       "            <td>Patriots</td> <td>1.175</td>\n",
       "        </tr>\n",
       "        <tr>\n",
       "            <td>Patriots</td> <td>1.65 </td>\n",
       "        </tr>\n",
       "        <tr>\n",
       "            <td>Patriots</td> <td>1.225</td>\n",
       "        </tr>\n",
       "        <tr>\n",
       "            <td>Patriots</td> <td>0.725</td>\n",
       "        </tr>\n",
       "        <tr>\n",
       "            <td>Patriots</td> <td>0.425</td>\n",
       "        </tr>\n",
       "        <tr>\n",
       "            <td>Patriots</td> <td>1.175</td>\n",
       "        </tr>\n",
       "        <tr>\n",
       "            <td>Patriots</td> <td>1.35 </td>\n",
       "        </tr>\n",
       "        <tr>\n",
       "            <td>Patriots</td> <td>1.8  </td>\n",
       "        </tr>\n",
       "    </tbody>\n",
       "</table>\n",
       "<p>... (5 rows omitted)</p>"
      ],
      "text/plain": [
       "Team     | Drop\n",
       "Patriots | 0.85\n",
       "Patriots | 1.475\n",
       "Patriots | 1.175\n",
       "Patriots | 1.65\n",
       "Patriots | 1.225\n",
       "Patriots | 0.725\n",
       "Patriots | 0.425\n",
       "Patriots | 1.175\n",
       "Patriots | 1.35\n",
       "Patriots | 1.8\n",
       "... (5 rows omitted)"
      ]
     },
     "execution_count": 55,
     "metadata": {},
     "output_type": "execute_result"
    }
   ],
   "source": [
    "football = football.with_column('Drop', t1-football.column(1)).drop(1)\n",
    "football"
   ]
  },
  {
   "cell_type": "code",
   "execution_count": 56,
   "metadata": {},
   "outputs": [
    {
     "data": {
      "text/html": [
       "<table border=\"1\" class=\"dataframe\">\n",
       "    <thead>\n",
       "        <tr>\n",
       "            <th>Team</th> <th>Drop average</th>\n",
       "        </tr>\n",
       "    </thead>\n",
       "    <tbody>\n",
       "        <tr>\n",
       "            <td>Colts   </td> <td>0.46875     </td>\n",
       "        </tr>\n",
       "        <tr>\n",
       "            <td>Patriots</td> <td>1.20227     </td>\n",
       "        </tr>\n",
       "    </tbody>\n",
       "</table>"
      ],
      "text/plain": [
       "Team     | Drop average\n",
       "Colts    | 0.46875\n",
       "Patriots | 1.20227"
      ]
     },
     "execution_count": 56,
     "metadata": {},
     "output_type": "execute_result"
    }
   ],
   "source": [
    "football.group('Team', np.average)"
   ]
  },
  {
   "cell_type": "code",
   "execution_count": 58,
   "metadata": {},
   "outputs": [
    {
     "data": {
      "text/plain": [
       "-0.733522727272728"
      ]
     },
     "execution_count": 58,
     "metadata": {},
     "output_type": "execute_result"
    }
   ],
   "source": [
    "means = football.group('Team', np.average).column(1)\n",
    "observed_difference = means.item(0)-means.item(1)\n",
    "observed_difference"
   ]
  },
  {
   "cell_type": "code",
   "execution_count": 60,
   "metadata": {},
   "outputs": [
    {
     "data": {
      "text/html": [
       "<table border=\"1\" class=\"dataframe\">\n",
       "    <thead>\n",
       "        <tr>\n",
       "            <th>Drop</th>\n",
       "        </tr>\n",
       "    </thead>\n",
       "    <tbody>\n",
       "        <tr>\n",
       "            <td>0.85 </td>\n",
       "        </tr>\n",
       "        <tr>\n",
       "            <td>1.475</td>\n",
       "        </tr>\n",
       "        <tr>\n",
       "            <td>1.175</td>\n",
       "        </tr>\n",
       "        <tr>\n",
       "            <td>1.65 </td>\n",
       "        </tr>\n",
       "        <tr>\n",
       "            <td>1.225</td>\n",
       "        </tr>\n",
       "        <tr>\n",
       "            <td>0.725</td>\n",
       "        </tr>\n",
       "        <tr>\n",
       "            <td>0.425</td>\n",
       "        </tr>\n",
       "        <tr>\n",
       "            <td>1.175</td>\n",
       "        </tr>\n",
       "        <tr>\n",
       "            <td>1.35 </td>\n",
       "        </tr>\n",
       "        <tr>\n",
       "            <td>1.8  </td>\n",
       "        </tr>\n",
       "    </tbody>\n",
       "</table>\n",
       "<p>... (5 rows omitted)</p>"
      ],
      "text/plain": [
       "Drop\n",
       "0.85\n",
       "1.475\n",
       "1.175\n",
       "1.65\n",
       "1.225\n",
       "0.725\n",
       "0.425\n",
       "1.175\n",
       "1.35\n",
       "1.8\n",
       "... (5 rows omitted)"
      ]
     },
     "execution_count": 60,
     "metadata": {},
     "output_type": "execute_result"
    }
   ],
   "source": [
    "groups = football.select('Team')\n",
    "all_sample = football.select('Drop')\n",
    "all_sample"
   ]
  },
  {
   "cell_type": "code",
   "execution_count": 61,
   "metadata": {},
   "outputs": [
    {
     "data": {
      "text/plain": [
       "0.0505681818181819"
      ]
     },
     "execution_count": 61,
     "metadata": {},
     "output_type": "execute_result"
    }
   ],
   "source": [
    "shuffled_sample = all_sample.sample(with_replacement=False).column(0)\n",
    "label_group =groups.with_column('Shuffled drop', shuffled_sample)\n",
    "means = label_group.group('Team', np.average).column(1)\n",
    "new_difference = means.item(0)-means.item(1)\n",
    "new_difference"
   ]
  },
  {
   "cell_type": "code",
   "execution_count": 62,
   "metadata": {},
   "outputs": [],
   "source": [
    "difference = make_array()\n",
    "\n",
    "for i in np.arange(20000):\n",
    "    shuffled_sample = all_sample.sample(with_replacement=False).column(0)\n",
    "    label_group =groups.with_column('Shuffled drop', shuffled_sample)\n",
    "    means = label_group.group('Team', np.average).column(1)\n",
    "    new_difference = means.item(0)-means.item(1)\n",
    "    difference = np.append(difference, new_difference)"
   ]
  },
  {
   "cell_type": "code",
   "execution_count": 65,
   "metadata": {},
   "outputs": [
    {
     "data": {
      "text/plain": [
       "<matplotlib.collections.PathCollection at 0x7fea5645b278>"
      ]
     },
     "execution_count": 65,
     "metadata": {},
     "output_type": "execute_result"
    },
    {
     "data": {
      "image/png": "[encoded data removed]",
      "text/plain": [
       "<Figure size 432x288 with 1 Axes>"
      ]
     },
     "metadata": {},
     "output_type": "display_data"
    }
   ],
   "source": [
    "Table().with_column('Drop', difference).hist(bins=20)\n",
    "plt.scatter(observed_difference, 0, color='red', s=40)"
   ]
  },
  {
   "cell_type": "code",
   "execution_count": 70,
   "metadata": {},
   "outputs": [
    {
     "data": {
      "text/plain": [
       "0.0025"
      ]
     },
     "execution_count": 70,
     "metadata": {},
     "output_type": "execute_result"
    }
   ],
   "source": [
    "np.count_nonzero(difference <= observed_difference)/20000"
   ]
  },
  {
   "cell_type": "code",
   "execution_count": null,
   "metadata": {},
   "outputs": [],
   "source": []
  }
 ],
 "metadata": {
  "kernelspec": {
   "display_name": "Python 3",
   "language": "python",
   "name": "python3"
  },
  "language_info": {
   "codemirror_mode": {
    "name": "ipython",
    "version": 3
   },
   "file_extension": ".py",
   "mimetype": "text/x-python",
   "name": "python",
   "nbconvert_exporter": "python",
   "pygments_lexer": "ipython3",
   "version": "3.7.3"
  }
 },
 "nbformat": 4,
 "nbformat_minor": 4
}
