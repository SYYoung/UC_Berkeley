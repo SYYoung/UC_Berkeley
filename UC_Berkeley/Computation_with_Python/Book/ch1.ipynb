{
 "cells": [
  {
   "cell_type": "code",
   "execution_count": 1,
   "metadata": {},
   "outputs": [],
   "source": [
    "from datascience import *\n",
    "import numpy as np\n",
    "%matplotlib inline\n",
    "import matplotlib.pyplot as plt"
   ]
  },
  {
   "cell_type": "code",
   "execution_count": 5,
   "metadata": {},
   "outputs": [],
   "source": [
    "from urllib.request import urlopen\n",
    "import re\n",
    "def read_url(url):\n",
    "    return re.sub('\\\\s+', ' ', urlopen(url).read().decode())"
   ]
  },
  {
   "cell_type": "code",
   "execution_count": 6,
   "metadata": {},
   "outputs": [],
   "source": [
    "huck_finn_url = 'https://www.inferentialthinking.com/data/huck_finn.txt'\n",
    "huck_finn_text = read_url(huck_finn_url)\n",
    "huck_finn_chapters = huck_finn_text.split('CHAPTER ')[44:]"
   ]
  },
  {
   "cell_type": "code",
   "execution_count": 8,
   "metadata": {},
   "outputs": [
    {
     "data": {
      "text/html": [
       "<table border=\"1\" class=\"dataframe\">\n",
       "    <thead>\n",
       "        <tr>\n",
       "            <th>Chapters</th>\n",
       "        </tr>\n",
       "    </thead>\n",
       "    <tbody>\n",
       "        <tr>\n",
       "            <td>I. YOU don't know about me without you have read a book  ...</td>\n",
       "        </tr>\n",
       "        <tr>\n",
       "            <td>II. WE went tiptoeing along a path amongst the trees bac ...</td>\n",
       "        </tr>\n",
       "        <tr>\n",
       "            <td>III. WELL, I got a good going-over in the morning from o ...</td>\n",
       "        </tr>\n",
       "        <tr>\n",
       "            <td>IV. WELL, three or four months run along, and it was wel ...</td>\n",
       "        </tr>\n",
       "        <tr>\n",
       "            <td>V. I had shut the door to. Then I turned around and ther ...</td>\n",
       "        </tr>\n",
       "        <tr>\n",
       "            <td>VI. WELL, pretty soon the old man was up and around agai ...</td>\n",
       "        </tr>\n",
       "        <tr>\n",
       "            <td>VII. \"GIT up! What you 'bout?\" I opened my eyes and look ...</td>\n",
       "        </tr>\n",
       "        <tr>\n",
       "            <td>VIII. THE sun was up so high when I waked that I judged  ...</td>\n",
       "        </tr>\n",
       "        <tr>\n",
       "            <td>IX. I wanted to go and look at a place right about the m ...</td>\n",
       "        </tr>\n",
       "        <tr>\n",
       "            <td>X. AFTER breakfast I wanted to talk about the dead man a ...</td>\n",
       "        </tr>\n",
       "    </tbody>\n",
       "</table>\n",
       "<p>... (33 rows omitted)</p>"
      ],
      "text/plain": [
       "Chapters\n",
       "I. YOU don't know about me without you have read a book  ...\n",
       "II. WE went tiptoeing along a path amongst the trees bac ...\n",
       "III. WELL, I got a good going-over in the morning from o ...\n",
       "IV. WELL, three or four months run along, and it was wel ...\n",
       "V. I had shut the door to. Then I turned around and ther ...\n",
       "VI. WELL, pretty soon the old man was up and around agai ...\n",
       "VII. \"GIT up! What you 'bout?\" I opened my eyes and look ...\n",
       "VIII. THE sun was up so high when I waked that I judged  ...\n",
       "IX. I wanted to go and look at a place right about the m ...\n",
       "X. AFTER breakfast I wanted to talk about the dead man a ...\n",
       "... (33 rows omitted)"
      ]
     },
     "execution_count": 8,
     "metadata": {},
     "output_type": "execute_result"
    }
   ],
   "source": [
    "Table().with_column('Chapters', huck_finn_chapters)"
   ]
  },
  {
   "cell_type": "code",
   "execution_count": 11,
   "metadata": {},
   "outputs": [
    {
     "name": "stderr",
     "output_type": "stream",
     "text": [
      "/Users/kilingcheung/anaconda3/lib/python3.7/site-packages/datascience/tables.py:222: FutureWarning: Implicit column method lookup is deprecated.\n",
      "  warnings.warn(\"Implicit column method lookup is deprecated.\", FutureWarning)\n"
     ]
    },
    {
     "data": {
      "text/plain": [
       "Text(0.5, 1.08, 'Cum Number of times each name appears')"
      ]
     },
     "execution_count": 11,
     "metadata": {},
     "output_type": "execute_result"
    },
    {
     "data": {
      "image/png": "[encoded data removed]",
      "text/plain": [
       "<Figure size 432x432 with 1 Axes>"
      ]
     },
     "metadata": {
      "needs_background": "light"
     },
     "output_type": "display_data"
    }
   ],
   "source": [
    "counts = Table().with_columns(\n",
    "    'Jim', np.char.count(huck_finn_chapters, 'Jim'),\n",
    "    'Tom', np.char.count(huck_finn_chapters, 'Tom'),\n",
    "    'Huck', np.char.count(huck_finn_chapters, 'Huck')\n",
    ")\n",
    "cum_counts = counts.cumsum().with_columns('Chapter', np.arange(1,44,1))\n",
    "cum_counts.plot(column_for_xticks=3)\n",
    "plt.title('Cum Number of times each name appears', y=1.08)"
   ]
  },
  {
   "cell_type": "code",
   "execution_count": 12,
   "metadata": {},
   "outputs": [
    {
     "data": {
      "text/html": [
       "<table border=\"1\" class=\"dataframe\">\n",
       "    <thead>\n",
       "        <tr>\n",
       "            <th>Jim</th> <th>Tom</th> <th>Huck</th> <th>Chapter</th>\n",
       "        </tr>\n",
       "    </thead>\n",
       "    <tbody>\n",
       "        <tr>\n",
       "            <td>0   </td> <td>6   </td> <td>3   </td> <td>1      </td>\n",
       "        </tr>\n",
       "        <tr>\n",
       "            <td>16  </td> <td>30  </td> <td>5   </td> <td>2      </td>\n",
       "        </tr>\n",
       "        <tr>\n",
       "            <td>16  </td> <td>35  </td> <td>7   </td> <td>3      </td>\n",
       "        </tr>\n",
       "        <tr>\n",
       "            <td>24  </td> <td>35  </td> <td>8   </td> <td>4      </td>\n",
       "        </tr>\n",
       "        <tr>\n",
       "            <td>24  </td> <td>35  </td> <td>8   </td> <td>5      </td>\n",
       "        </tr>\n",
       "        <tr>\n",
       "            <td>24  </td> <td>35  </td> <td>10  </td> <td>6      </td>\n",
       "        </tr>\n",
       "        <tr>\n",
       "            <td>24  </td> <td>37  </td> <td>10  </td> <td>7      </td>\n",
       "        </tr>\n",
       "        <tr>\n",
       "            <td>46  </td> <td>39  </td> <td>15  </td> <td>8      </td>\n",
       "        </tr>\n",
       "        <tr>\n",
       "            <td>57  </td> <td>39  </td> <td>16  </td> <td>9      </td>\n",
       "        </tr>\n",
       "        <tr>\n",
       "            <td>76  </td> <td>39  </td> <td>16  </td> <td>10     </td>\n",
       "        </tr>\n",
       "    </tbody>\n",
       "</table>\n",
       "<p>... (33 rows omitted)</p>"
      ],
      "text/plain": [
       "Jim  | Tom  | Huck | Chapter\n",
       "0    | 6    | 3    | 1\n",
       "16   | 30   | 5    | 2\n",
       "16   | 35   | 7    | 3\n",
       "24   | 35   | 8    | 4\n",
       "24   | 35   | 8    | 5\n",
       "24   | 35   | 10   | 6\n",
       "24   | 37   | 10   | 7\n",
       "46   | 39   | 15   | 8\n",
       "57   | 39   | 16   | 9\n",
       "76   | 39   | 16   | 10\n",
       "... (33 rows omitted)"
      ]
     },
     "execution_count": 12,
     "metadata": {},
     "output_type": "execute_result"
    }
   ],
   "source": [
    "cum_counts"
   ]
  },
  {
   "cell_type": "code",
   "execution_count": null,
   "metadata": {},
   "outputs": [],
   "source": []
  }
 ],
 "metadata": {
  "kernelspec": {
   "display_name": "Python 3",
   "language": "python",
   "name": "python3"
  },
  "language_info": {
   "codemirror_mode": {
    "name": "ipython",
    "version": 3
   },
   "file_extension": ".py",
   "mimetype": "text/x-python",
   "name": "python",
   "nbconvert_exporter": "python",
   "pygments_lexer": "ipython3",
   "version": "3.7.3"
  }
 },
 "nbformat": 4,
 "nbformat_minor": 4
}
